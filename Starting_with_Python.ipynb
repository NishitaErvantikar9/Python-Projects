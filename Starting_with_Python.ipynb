{
  "nbformat": 4,
  "nbformat_minor": 0,
  "metadata": {
    "colab": {
      "provenance": [],
      "collapsed_sections": [
        "4BQ31QVUbQh1",
        "ZPsDJEGLceKI",
        "DhETwDT-oooJ",
        "wFCNSY2Ifv-1",
        "qR5tX1frpCkn",
        "HU2qtpdIlZHp",
        "XTQlN8pDntQD"
      ],
      "authorship_tag": "ABX9TyOn3rgAwpiVrVwxqhVyhmSB",
      "include_colab_link": true
    },
    "kernelspec": {
      "name": "python3",
      "display_name": "Python 3"
    },
    "language_info": {
      "name": "python"
    }
  },
  "cells": [
    {
      "cell_type": "markdown",
      "metadata": {
        "id": "view-in-github",
        "colab_type": "text"
      },
      "source": [
        "<a href=\"https://colab.research.google.com/github/NishitaErvantikar9/Python-Projects/blob/main/Starting_with_Python.ipynb\" target=\"_parent\"><img src=\"https://colab.research.google.com/assets/colab-badge.svg\" alt=\"Open In Colab\"/></a>"
      ]
    },
    {
      "cell_type": "code",
      "execution_count": null,
      "metadata": {
        "id": "qzt0w5kuayRT"
      },
      "outputs": [],
      "source": []
    },
    {
      "cell_type": "markdown",
      "source": [
        "# **Computer Science 12th Boards Practice**\n",
        "<img src=\"https://cdn.jsdelivr.net/gh/devicons/devicon/icons/python/python-original.svg\" height=\"100px\"/>\n"
      ],
      "metadata": {
        "id": "H2VBOz2ba2pc"
      }
    },
    {
      "cell_type": "markdown",
      "source": [
        "\n",
        "\n",
        "\n",
        "\n",
        "1.   Python\n",
        "2.   SQL\n",
        "3.   Computer Networks\n",
        "\n",
        "\n",
        "\n",
        "\n",
        "\n",
        "---\n",
        "\n",
        "\n",
        "\n"
      ],
      "metadata": {
        "id": "qv4YpPCrtF2K"
      }
    },
    {
      "cell_type": "markdown",
      "source": [
        "### **Taking input from user**\n"
      ],
      "metadata": {
        "id": "4BQ31QVUbQh1"
      }
    },
    {
      "cell_type": "code",
      "source": [
        "h=int(input(\"enter the number:\"))\n",
        "sum=h*75\n",
        "print (sum)"
      ],
      "metadata": {
        "colab": {
          "base_uri": "https://localhost:8080/"
        },
        "id": "ATRpJbySbVCX",
        "outputId": "aea40058-e0b1-409e-e857-ce72ba222c6c"
      },
      "execution_count": null,
      "outputs": [
        {
          "output_type": "stream",
          "name": "stdout",
          "text": [
            "enter the number:5\n",
            "375\n"
          ]
        }
      ]
    },
    {
      "cell_type": "markdown",
      "source": [
        "###  **Understanding Print Function**\n"
      ],
      "metadata": {
        "id": "ZPsDJEGLceKI"
      }
    },
    {
      "cell_type": "code",
      "source": [
        "#concatenation\n",
        "print(\"nishita\"+\" rishica\")\n",
        "\n",
        "#replication\n",
        "print(\"hasm\"*5)\n",
        "\n",
        "quality = \"pretty\"\n",
        "#print paramaters\n",
        "print(\"nishita is\" , quality, sep=\"--\" )\n",
        "\n",
        "\n",
        "#print in loop\n",
        "for i in range(10):\n",
        "  print(\"choti\",\"nish\", sep=\"==\" , end=\" \")"
      ],
      "metadata": {
        "colab": {
          "base_uri": "https://localhost:8080/"
        },
        "id": "mq-RhJH9chl1",
        "outputId": "f129ddc7-7244-4fd8-9b6e-195ae75ebb91"
      },
      "execution_count": null,
      "outputs": [
        {
          "output_type": "stream",
          "name": "stdout",
          "text": [
            "nishita rishica\n",
            "hasmhasmhasmhasmhasm\n",
            "nishita is--pretty\n",
            "choti==nish choti==nish choti==nish choti==nish choti==nish choti==nish choti==nish choti==nish choti==nish choti==nish "
          ]
        }
      ]
    },
    {
      "cell_type": "markdown",
      "source": [
        "### **String Slices**"
      ],
      "metadata": {
        "id": "DhETwDT-oooJ"
      }
    },
    {
      "cell_type": "code",
      "source": [
        "name =\"Hasmita Ervantikar\"\n",
        "\n",
        "#print mita ervan\n",
        "print(name[3:13])\n",
        "\n",
        "#print first 5 letters\n",
        "print(name[:6])\n",
        "\n",
        "#print last 6 letters\n",
        "print(name[12:18])\n",
        "print(name[12:])\n",
        "\n",
        "#print from 3rd letter to last 2nd letter\n",
        "print(name[2:16])\n",
        "print(name[2:-2])\n",
        "  "
      ],
      "metadata": {
        "colab": {
          "base_uri": "https://localhost:8080/"
        },
        "id": "DCS8EqOkf-HY",
        "outputId": "a244b03f-b1c2-426c-f114-319b25944ac5"
      },
      "execution_count": null,
      "outputs": [
        {
          "output_type": "stream",
          "name": "stdout",
          "text": [
            "mita Ervan\n",
            "Hasmit\n",
            "ntikar\n",
            "ntikar\n",
            "smita Ervantik\n",
            "smita Ervantik\n"
          ]
        }
      ]
    },
    {
      "cell_type": "markdown",
      "source": [
        "### **string functions**"
      ],
      "metadata": {
        "id": "wFCNSY2Ifv-1"
      }
    },
    {
      "cell_type": "code",
      "source": [
        "a=\"hasmita ervantikar\"\n",
        "z=\"123xyz\"\n",
        "\n",
        "#capitalize\n",
        "b=a.capitalize()\n",
        "print (b)\n",
        "\n",
        "#find \n",
        "c=a.find(\"mi\",5,10)\n",
        "if c== -1:\n",
        "  print(\"the substring was not found\")\n",
        "else:\n",
        "  print(\"mi was found in \", c ,\"rd place\")\n",
        "\n",
        "\n",
        "#isalnum\n",
        "d=a.isalnum()\n",
        "print(d)\n",
        "e=z.isalnum()\n",
        "print(e)\n",
        "\n",
        "#isalpha\n",
        "f=a.isalpha()\n",
        "print(f)\n",
        "\n",
        "#isdigit\n",
        "g=z.isdigit()\n",
        "print(g)\n",
        "\n",
        "#isspace\n",
        "h=a.isspace()\n",
        "print(h)\n",
        "\n",
        "#islower\n",
        "i=a.islower()\n",
        "print(i)\n",
        "\n",
        "#isupper\n",
        "j=a.isupper()\n",
        "print(j)\n",
        "\n",
        "#istitle\n",
        "k=a.istitle()\n",
        "print(k)\n",
        "\n",
        "#lower\n",
        "l=a.lower()\n",
        "print(l)\n",
        "\n",
        "#upper\n",
        "m=a.upper()\n",
        "print(m)\n",
        "\n",
        "#title\n",
        "n=a.title()\n",
        "print(n)\n",
        "\n",
        "#swapcase\n",
        "o=z.swapcase()\n",
        "print(o)\n",
        "\n",
        "#partition\n",
        "p=a.partition(\"ti\")\n",
        "print(p)\n",
        "\n",
        "#count\n",
        "q=a.count(\"i\")\n",
        "print(q)\n",
        "\n",
        "\n"
      ],
      "metadata": {
        "colab": {
          "base_uri": "https://localhost:8080/"
        },
        "id": "-09eqt9GibRQ",
        "outputId": "2cb3d1f8-9329-4ece-8364-9f39df08e88f"
      },
      "execution_count": null,
      "outputs": [
        {
          "output_type": "stream",
          "name": "stdout",
          "text": [
            "Hasmita ervantikar\n",
            "the substring was not found\n",
            "False\n",
            "True\n",
            "False\n",
            "False\n",
            "False\n",
            "True\n",
            "False\n",
            "False\n",
            "hasmita ervantikar\n",
            "HASMITA ERVANTIKAR\n",
            "Hasmita Ervantikar\n",
            "123XYZ\n",
            "('hasmita ervan', 'ti', 'kar')\n",
            "2\n",
            "mita ervantikar\n",
            "hasmita ervanti\n"
          ]
        }
      ]
    },
    {
      "cell_type": "code",
      "source": [
        "a=\"nishchay ervantikar\"\n",
        "\n",
        "#lstrip\n",
        "r=a.lstrip(\"nishita\")\n",
        "print(r)\n",
        "\n",
        "#rstrip\n",
        "s=a.rstrip(\"nishita\")\n",
        "print(s)"
      ],
      "metadata": {
        "colab": {
          "base_uri": "https://localhost:8080/"
        },
        "id": "bTOaGRVFn-FX",
        "outputId": "5bf1e5b3-e3a1-490e-f032-357b86f28e04"
      },
      "execution_count": null,
      "outputs": [
        {
          "output_type": "stream",
          "name": "stdout",
          "text": [
            "chay ervantikar\n",
            "nishchay ervantikar\n"
          ]
        }
      ]
    },
    {
      "cell_type": "code",
      "source": [],
      "metadata": {
        "id": "VTFSO6EJoyZX"
      },
      "execution_count": null,
      "outputs": []
    },
    {
      "cell_type": "markdown",
      "source": [
        "### **Creating Lists**"
      ],
      "metadata": {
        "id": "qR5tX1frpCkn"
      }
    },
    {
      "cell_type": "code",
      "source": [
        "el=[1,2,3]\n",
        "print(l)\n",
        "m=list(\"nishita\")\n",
        "print(m)\n",
        "\n",
        "#using keyboard input\n",
        "k=list(input(\"enter your name:\"))\n",
        "print (k)\n",
        "\n",
        "#concatenation\n",
        "j=(l+m)\n",
        "print(j)\n",
        "\n",
        "#replication\n",
        "n=(m*5)\n",
        "print(n)\n",
        "\n",
        "#transversing\n",
        "for i in k:\n",
        "  print(i)\n",
        "\n",
        "#slicing\n",
        "print(j[2:-2:2])\n",
        "\n",
        "#mutable\n",
        "k[0]=\"p\"\n",
        "print(k)\n",
        "\n",
        "\n",
        "\n"
      ],
      "metadata": {
        "colab": {
          "base_uri": "https://localhost:8080/"
        },
        "id": "UxDCOemspLUn",
        "outputId": "eec550eb-1af2-4c4b-bebc-57b2bc6cd201"
      },
      "execution_count": null,
      "outputs": [
        {
          "output_type": "stream",
          "name": "stdout",
          "text": [
            "[1, 2, 3]\n",
            "['n', 'i', 's', 'h', 'i', 't', 'a']\n",
            "enter your name:hasmita\n",
            "['h', 'a', 's', 'm', 'i', 't', 'a']\n",
            "[1, 2, 3, 'n', 'i', 's', 'h', 'i', 't', 'a']\n",
            "['n', 'i', 's', 'h', 'i', 't', 'a', 'n', 'i', 's', 'h', 'i', 't', 'a', 'n', 'i', 's', 'h', 'i', 't', 'a', 'n', 'i', 's', 'h', 'i', 't', 'a', 'n', 'i', 's', 'h', 'i', 't', 'a']\n",
            "h\n",
            "a\n",
            "s\n",
            "m\n",
            "i\n",
            "t\n",
            "a\n",
            "[3, 'i', 'h']\n",
            "['p', 'a', 's', 'm', 'i', 't', 'a']\n"
          ]
        }
      ]
    },
    {
      "cell_type": "markdown",
      "source": [
        "### **List Manipulation**"
      ],
      "metadata": {
        "id": "HU2qtpdIlZHp"
      }
    },
    {
      "cell_type": "code",
      "source": [
        "# Modification of lists using slicing\n",
        "l=[1,2,3,4,5]\n",
        "l[2:]=[7,8,9]\n",
        "print(l)\n",
        "\n",
        "#append\n",
        "l.append(10)\n",
        "print(l)\n",
        "\n",
        "#updating\n",
        "l[2]=27\n",
        "print(l)\n",
        "\n",
        "#delete\n",
        "del l[1:3]\n",
        "print(l)\n",
        "\n",
        "#making true copy of list\n",
        "\n"
      ],
      "metadata": {
        "colab": {
          "base_uri": "https://localhost:8080/"
        },
        "id": "yuR0x1Halj32",
        "outputId": "4caf91f1-7d62-4151-cd50-98fa78f53a6c"
      },
      "execution_count": 6,
      "outputs": [
        {
          "output_type": "stream",
          "name": "stdout",
          "text": [
            "[1, 2, 7, 8, 9]\n",
            "[1, 2, 7, 8, 9, 10]\n",
            "[1, 2, 27, 8, 9, 10]\n",
            "[1, 8, 9, 10]\n"
          ]
        }
      ]
    },
    {
      "cell_type": "markdown",
      "source": [
        "### **List Functions**"
      ],
      "metadata": {
        "id": "XTQlN8pDntQD"
      }
    },
    {
      "cell_type": "code",
      "source": [
        "#INDEX\n",
        "A=[4,5,6,7,8,9,10]\n",
        "B=A.index(6)\n",
        "print(B)\n",
        "\n",
        "\n",
        "#APPEND\n",
        "A.append(3)\n",
        "print(A)\n",
        "\n",
        "\n",
        "#EXTEND\n",
        "A.extend([11,12,13])\n",
        "print(A)\n",
        "\n",
        "#INSERT\n",
        "A.insert(3,5)\n",
        "print(A)\n",
        "\n",
        "#POP\n",
        "A.pop(5)\n",
        "print(A)\n",
        "\n",
        "#REMOVE\n",
        "A.remove(9)\n",
        "print(A)\n",
        "\n",
        "#COUNT\n",
        "print(A.count(5))\n",
        "\n",
        "\n",
        "#REVERSE\n",
        "A.reverse()\n",
        "print(A)\n",
        "\n",
        "#SORT\n",
        "A.sort()\n",
        "print(A)\n",
        "\n",
        "#clear\n",
        "A.clear()\n",
        "print(A)"
      ],
      "metadata": {
        "colab": {
          "base_uri": "https://localhost:8080/"
        },
        "id": "kMcwBdQ4n1zY",
        "outputId": "1ad79c0e-f54a-4e7e-f2d1-00691349176f"
      },
      "execution_count": 27,
      "outputs": [
        {
          "output_type": "stream",
          "name": "stdout",
          "text": [
            "2\n",
            "[4, 5, 6, 7, 8, 9, 10, 3]\n",
            "[4, 5, 6, 7, 8, 9, 10, 3, 11, 12, 13]\n",
            "[4, 5, 6, 5, 7, 8, 9, 10, 3, 11, 12, 13]\n",
            "[4, 5, 6, 5, 7, 9, 10, 3, 11, 12, 13]\n",
            "[4, 5, 6, 5, 7, 10, 3, 11, 12, 13]\n",
            "2\n",
            "[13, 12, 11, 3, 10, 7, 5, 6, 5, 4]\n",
            "[3, 4, 5, 5, 6, 7, 10, 11, 12, 13]\n",
            "[]\n"
          ]
        }
      ]
    },
    {
      "cell_type": "markdown",
      "source": [],
      "metadata": {
        "id": "Xwger-UAs7YT"
      }
    },
    {
      "cell_type": "markdown",
      "source": [
        "### **file handling**\n"
      ],
      "metadata": {
        "id": "iszCSMVRzff8"
      }
    },
    {
      "cell_type": "code",
      "source": [
        "st=\"python programming\"\n",
        "count=4\n",
        "while True:\n",
        "  if st[0]==\"p\":\n",
        "    st=st[2:]\n",
        "    print(st)\n",
        "  elif st[-2]==\"n\":\n",
        "      st=st[:6]\n",
        "      print(st)\n",
        "  else:\n",
        "      count+=1\n",
        "      break\n",
        "print(st)\n",
        "print(count)  "
      ],
      "metadata": {
        "colab": {
          "base_uri": "https://localhost:8080/"
        },
        "id": "mjG3r_CTwm0X",
        "outputId": "1911d707-377e-45ce-c3a5-28a4782b8f89"
      },
      "execution_count": 2,
      "outputs": [
        {
          "output_type": "stream",
          "name": "stdout",
          "text": [
            "thon\n",
            "5\n"
          ]
        }
      ]
    }
  ]
}